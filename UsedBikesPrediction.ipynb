{
 "cells": [
  {
   "cell_type": "code",
   "execution_count": 16,
   "id": "1a7e9216",
   "metadata": {},
   "outputs": [],
   "source": [
    "import pandas as pd\n",
    "import numpy as np\n",
    "import seaborn as sns\n",
    "import time\n",
    "from sklearn.ensemble import RandomForestRegressor\n",
    "from sklearn.preprocessing import StandardScaler\n",
    "from sklearn.linear_model import LogisticRegression\n",
    "from sklearn.preprocessing import OneHotEncoder \n",
    "from sklearn.model_selection import train_test_split\n",
    "from sklearn.model_selection import GridSearchCV\n",
    "from sklearn.metrics import accuracy_score, classification_report,confusion_matrix\n",
    "from sklearn.metrics import mean_squared_error,r2_score"
   ]
  },
  {
   "cell_type": "code",
   "execution_count": 3,
   "id": "55b3fc4c",
   "metadata": {},
   "outputs": [],
   "source": [
    "df = pd.read_csv(\"Used_Bikes.csv\")\n",
    "df.dropna(inplace=True)"
   ]
  },
  {
   "cell_type": "code",
   "execution_count": 4,
   "id": "e94e6bad",
   "metadata": {},
   "outputs": [
    {
     "data": {
      "text/html": [
       "<div>\n",
       "<style scoped>\n",
       "    .dataframe tbody tr th:only-of-type {\n",
       "        vertical-align: middle;\n",
       "    }\n",
       "\n",
       "    .dataframe tbody tr th {\n",
       "        vertical-align: top;\n",
       "    }\n",
       "\n",
       "    .dataframe thead th {\n",
       "        text-align: right;\n",
       "    }\n",
       "</style>\n",
       "<table border=\"1\" class=\"dataframe\">\n",
       "  <thead>\n",
       "    <tr style=\"text-align: right;\">\n",
       "      <th></th>\n",
       "      <th>bike_name</th>\n",
       "      <th>price</th>\n",
       "      <th>city</th>\n",
       "      <th>kms_driven</th>\n",
       "      <th>owner</th>\n",
       "      <th>age</th>\n",
       "      <th>power</th>\n",
       "      <th>brand</th>\n",
       "    </tr>\n",
       "  </thead>\n",
       "  <tbody>\n",
       "    <tr>\n",
       "      <th>0</th>\n",
       "      <td>TVS Star City Plus Dual Tone 110cc</td>\n",
       "      <td>35000.0</td>\n",
       "      <td>Ahmedabad</td>\n",
       "      <td>17654.0</td>\n",
       "      <td>First Owner</td>\n",
       "      <td>3.0</td>\n",
       "      <td>110.0</td>\n",
       "      <td>TVS</td>\n",
       "    </tr>\n",
       "    <tr>\n",
       "      <th>1</th>\n",
       "      <td>Royal Enfield Classic 350cc</td>\n",
       "      <td>119900.0</td>\n",
       "      <td>Delhi</td>\n",
       "      <td>11000.0</td>\n",
       "      <td>First Owner</td>\n",
       "      <td>4.0</td>\n",
       "      <td>350.0</td>\n",
       "      <td>Royal Enfield</td>\n",
       "    </tr>\n",
       "    <tr>\n",
       "      <th>2</th>\n",
       "      <td>Triumph Daytona 675R</td>\n",
       "      <td>600000.0</td>\n",
       "      <td>Delhi</td>\n",
       "      <td>110.0</td>\n",
       "      <td>First Owner</td>\n",
       "      <td>8.0</td>\n",
       "      <td>675.0</td>\n",
       "      <td>Triumph</td>\n",
       "    </tr>\n",
       "    <tr>\n",
       "      <th>3</th>\n",
       "      <td>TVS Apache RTR 180cc</td>\n",
       "      <td>65000.0</td>\n",
       "      <td>Bangalore</td>\n",
       "      <td>16329.0</td>\n",
       "      <td>First Owner</td>\n",
       "      <td>4.0</td>\n",
       "      <td>180.0</td>\n",
       "      <td>TVS</td>\n",
       "    </tr>\n",
       "    <tr>\n",
       "      <th>4</th>\n",
       "      <td>Yamaha FZ S V 2.0 150cc-Ltd. Edition</td>\n",
       "      <td>80000.0</td>\n",
       "      <td>Bangalore</td>\n",
       "      <td>10000.0</td>\n",
       "      <td>First Owner</td>\n",
       "      <td>3.0</td>\n",
       "      <td>150.0</td>\n",
       "      <td>Yamaha</td>\n",
       "    </tr>\n",
       "  </tbody>\n",
       "</table>\n",
       "</div>"
      ],
      "text/plain": [
       "                              bike_name     price       city  kms_driven  \\\n",
       "0    TVS Star City Plus Dual Tone 110cc   35000.0  Ahmedabad     17654.0   \n",
       "1           Royal Enfield Classic 350cc  119900.0      Delhi     11000.0   \n",
       "2                  Triumph Daytona 675R  600000.0      Delhi       110.0   \n",
       "3                  TVS Apache RTR 180cc   65000.0  Bangalore     16329.0   \n",
       "4  Yamaha FZ S V 2.0 150cc-Ltd. Edition   80000.0  Bangalore     10000.0   \n",
       "\n",
       "         owner  age  power          brand  \n",
       "0  First Owner  3.0  110.0            TVS  \n",
       "1  First Owner  4.0  350.0  Royal Enfield  \n",
       "2  First Owner  8.0  675.0        Triumph  \n",
       "3  First Owner  4.0  180.0            TVS  \n",
       "4  First Owner  3.0  150.0         Yamaha  "
      ]
     },
     "execution_count": 4,
     "metadata": {},
     "output_type": "execute_result"
    }
   ],
   "source": [
    "df.head()"
   ]
  },
  {
   "cell_type": "code",
   "execution_count": 5,
   "id": "1f6a248e",
   "metadata": {},
   "outputs": [
    {
     "data": {
      "text/plain": [
       "array(['First Owner', 'Second Owner', 'Third Owner',\n",
       "       'Fourth Owner Or More'], dtype=object)"
      ]
     },
     "execution_count": 5,
     "metadata": {},
     "output_type": "execute_result"
    }
   ],
   "source": [
    "df['owner'].unique()"
   ]
  },
  {
   "cell_type": "code",
   "execution_count": 6,
   "id": "6c20b27c",
   "metadata": {},
   "outputs": [
    {
     "data": {
      "text/plain": [
       "bike_name     0\n",
       "price         0\n",
       "city          0\n",
       "kms_driven    0\n",
       "owner         0\n",
       "age           0\n",
       "power         0\n",
       "brand         0\n",
       "dtype: int64"
      ]
     },
     "execution_count": 6,
     "metadata": {},
     "output_type": "execute_result"
    }
   ],
   "source": [
    "df.isnull().sum()"
   ]
  },
  {
   "cell_type": "code",
   "execution_count": 7,
   "id": "4933b7ff",
   "metadata": {},
   "outputs": [
    {
     "data": {
      "text/plain": [
       "Index(['bike_name', 'price', 'city', 'kms_driven', 'owner', 'age', 'power',\n",
       "       'brand'],\n",
       "      dtype='object')"
      ]
     },
     "execution_count": 7,
     "metadata": {},
     "output_type": "execute_result"
    }
   ],
   "source": [
    "df.columns"
   ]
  },
  {
   "cell_type": "code",
   "execution_count": 8,
   "id": "432e8f64",
   "metadata": {},
   "outputs": [],
   "source": [
    "numeric_cols = ['kms_driven', 'age', 'power']\n",
    "numerics_df = df[numeric_cols].reset_index(drop=True)"
   ]
  },
  {
   "cell_type": "code",
   "execution_count": 9,
   "id": "b2134c85",
   "metadata": {},
   "outputs": [],
   "source": [
    "encoder_owner = OneHotEncoder(sparse_output = False,drop = None)\n",
    "encoder_city = OneHotEncoder(sparse_output=False, drop=None)\n",
    "encoder_brand = OneHotEncoder(sparse_output=False, drop=None)"
   ]
  },
  {
   "cell_type": "code",
   "execution_count": 10,
   "id": "525f8945",
   "metadata": {},
   "outputs": [],
   "source": [
    "owner_en = encoder_owner.fit_transform(df[['owner']])\n",
    "city = encoder_city.fit_transform(df[['city']])"
   ]
  },
  {
   "cell_type": "code",
   "execution_count": 11,
   "id": "c6b7887b",
   "metadata": {},
   "outputs": [],
   "source": [
    "owner_df = pd.DataFrame(owner_en,columns=encoder_owner.get_feature_names_out(['owner']))\n",
    "city_df = pd.DataFrame(city,columns=encoder_city.get_feature_names_out(['city']))"
   ]
  },
  {
   "cell_type": "code",
   "execution_count": 12,
   "id": "d8c60bd2",
   "metadata": {},
   "outputs": [],
   "source": [
    "df_encoded = pd.concat([numerics_df, owner_df, city_df], axis=1)"
   ]
  },
  {
   "cell_type": "code",
   "execution_count": 13,
   "id": "84b4de40",
   "metadata": {},
   "outputs": [
    {
     "data": {
      "text/html": [
       "<div>\n",
       "<style scoped>\n",
       "    .dataframe tbody tr th:only-of-type {\n",
       "        vertical-align: middle;\n",
       "    }\n",
       "\n",
       "    .dataframe tbody tr th {\n",
       "        vertical-align: top;\n",
       "    }\n",
       "\n",
       "    .dataframe thead th {\n",
       "        text-align: right;\n",
       "    }\n",
       "</style>\n",
       "<table border=\"1\" class=\"dataframe\">\n",
       "  <thead>\n",
       "    <tr style=\"text-align: right;\">\n",
       "      <th></th>\n",
       "      <th>kms_driven</th>\n",
       "      <th>age</th>\n",
       "      <th>power</th>\n",
       "      <th>owner_First Owner</th>\n",
       "      <th>owner_Fourth Owner Or More</th>\n",
       "      <th>owner_Second Owner</th>\n",
       "      <th>owner_Third Owner</th>\n",
       "      <th>city_24 Pargana</th>\n",
       "      <th>city_Abohar</th>\n",
       "      <th>city_Adalaj</th>\n",
       "      <th>...</th>\n",
       "      <th>city_Viramgam</th>\n",
       "      <th>city_Virar</th>\n",
       "      <th>city_Virudhunagar</th>\n",
       "      <th>city_Visakhapatnam</th>\n",
       "      <th>city_Vizianagaram</th>\n",
       "      <th>city_Warangal</th>\n",
       "      <th>city_Wardha</th>\n",
       "      <th>city_Yamuna Nagar</th>\n",
       "      <th>city_Yemmiganur</th>\n",
       "      <th>city_Zirakpur</th>\n",
       "    </tr>\n",
       "  </thead>\n",
       "  <tbody>\n",
       "    <tr>\n",
       "      <th>0</th>\n",
       "      <td>17654.0</td>\n",
       "      <td>3.0</td>\n",
       "      <td>110.0</td>\n",
       "      <td>1.0</td>\n",
       "      <td>0.0</td>\n",
       "      <td>0.0</td>\n",
       "      <td>0.0</td>\n",
       "      <td>0.0</td>\n",
       "      <td>0.0</td>\n",
       "      <td>0.0</td>\n",
       "      <td>...</td>\n",
       "      <td>0.0</td>\n",
       "      <td>0.0</td>\n",
       "      <td>0.0</td>\n",
       "      <td>0.0</td>\n",
       "      <td>0.0</td>\n",
       "      <td>0.0</td>\n",
       "      <td>0.0</td>\n",
       "      <td>0.0</td>\n",
       "      <td>0.0</td>\n",
       "      <td>0.0</td>\n",
       "    </tr>\n",
       "    <tr>\n",
       "      <th>1</th>\n",
       "      <td>11000.0</td>\n",
       "      <td>4.0</td>\n",
       "      <td>350.0</td>\n",
       "      <td>1.0</td>\n",
       "      <td>0.0</td>\n",
       "      <td>0.0</td>\n",
       "      <td>0.0</td>\n",
       "      <td>0.0</td>\n",
       "      <td>0.0</td>\n",
       "      <td>0.0</td>\n",
       "      <td>...</td>\n",
       "      <td>0.0</td>\n",
       "      <td>0.0</td>\n",
       "      <td>0.0</td>\n",
       "      <td>0.0</td>\n",
       "      <td>0.0</td>\n",
       "      <td>0.0</td>\n",
       "      <td>0.0</td>\n",
       "      <td>0.0</td>\n",
       "      <td>0.0</td>\n",
       "      <td>0.0</td>\n",
       "    </tr>\n",
       "    <tr>\n",
       "      <th>2</th>\n",
       "      <td>110.0</td>\n",
       "      <td>8.0</td>\n",
       "      <td>675.0</td>\n",
       "      <td>1.0</td>\n",
       "      <td>0.0</td>\n",
       "      <td>0.0</td>\n",
       "      <td>0.0</td>\n",
       "      <td>0.0</td>\n",
       "      <td>0.0</td>\n",
       "      <td>0.0</td>\n",
       "      <td>...</td>\n",
       "      <td>0.0</td>\n",
       "      <td>0.0</td>\n",
       "      <td>0.0</td>\n",
       "      <td>0.0</td>\n",
       "      <td>0.0</td>\n",
       "      <td>0.0</td>\n",
       "      <td>0.0</td>\n",
       "      <td>0.0</td>\n",
       "      <td>0.0</td>\n",
       "      <td>0.0</td>\n",
       "    </tr>\n",
       "    <tr>\n",
       "      <th>3</th>\n",
       "      <td>16329.0</td>\n",
       "      <td>4.0</td>\n",
       "      <td>180.0</td>\n",
       "      <td>1.0</td>\n",
       "      <td>0.0</td>\n",
       "      <td>0.0</td>\n",
       "      <td>0.0</td>\n",
       "      <td>0.0</td>\n",
       "      <td>0.0</td>\n",
       "      <td>0.0</td>\n",
       "      <td>...</td>\n",
       "      <td>0.0</td>\n",
       "      <td>0.0</td>\n",
       "      <td>0.0</td>\n",
       "      <td>0.0</td>\n",
       "      <td>0.0</td>\n",
       "      <td>0.0</td>\n",
       "      <td>0.0</td>\n",
       "      <td>0.0</td>\n",
       "      <td>0.0</td>\n",
       "      <td>0.0</td>\n",
       "    </tr>\n",
       "    <tr>\n",
       "      <th>4</th>\n",
       "      <td>10000.0</td>\n",
       "      <td>3.0</td>\n",
       "      <td>150.0</td>\n",
       "      <td>1.0</td>\n",
       "      <td>0.0</td>\n",
       "      <td>0.0</td>\n",
       "      <td>0.0</td>\n",
       "      <td>0.0</td>\n",
       "      <td>0.0</td>\n",
       "      <td>0.0</td>\n",
       "      <td>...</td>\n",
       "      <td>0.0</td>\n",
       "      <td>0.0</td>\n",
       "      <td>0.0</td>\n",
       "      <td>0.0</td>\n",
       "      <td>0.0</td>\n",
       "      <td>0.0</td>\n",
       "      <td>0.0</td>\n",
       "      <td>0.0</td>\n",
       "      <td>0.0</td>\n",
       "      <td>0.0</td>\n",
       "    </tr>\n",
       "    <tr>\n",
       "      <th>5</th>\n",
       "      <td>25000.0</td>\n",
       "      <td>6.0</td>\n",
       "      <td>150.0</td>\n",
       "      <td>1.0</td>\n",
       "      <td>0.0</td>\n",
       "      <td>0.0</td>\n",
       "      <td>0.0</td>\n",
       "      <td>0.0</td>\n",
       "      <td>0.0</td>\n",
       "      <td>0.0</td>\n",
       "      <td>...</td>\n",
       "      <td>0.0</td>\n",
       "      <td>0.0</td>\n",
       "      <td>0.0</td>\n",
       "      <td>0.0</td>\n",
       "      <td>0.0</td>\n",
       "      <td>0.0</td>\n",
       "      <td>0.0</td>\n",
       "      <td>0.0</td>\n",
       "      <td>0.0</td>\n",
       "      <td>0.0</td>\n",
       "    </tr>\n",
       "    <tr>\n",
       "      <th>6</th>\n",
       "      <td>8200.0</td>\n",
       "      <td>3.0</td>\n",
       "      <td>160.0</td>\n",
       "      <td>1.0</td>\n",
       "      <td>0.0</td>\n",
       "      <td>0.0</td>\n",
       "      <td>0.0</td>\n",
       "      <td>0.0</td>\n",
       "      <td>0.0</td>\n",
       "      <td>0.0</td>\n",
       "      <td>...</td>\n",
       "      <td>0.0</td>\n",
       "      <td>0.0</td>\n",
       "      <td>0.0</td>\n",
       "      <td>0.0</td>\n",
       "      <td>0.0</td>\n",
       "      <td>0.0</td>\n",
       "      <td>0.0</td>\n",
       "      <td>0.0</td>\n",
       "      <td>0.0</td>\n",
       "      <td>0.0</td>\n",
       "    </tr>\n",
       "    <tr>\n",
       "      <th>7</th>\n",
       "      <td>12645.0</td>\n",
       "      <td>3.0</td>\n",
       "      <td>100.0</td>\n",
       "      <td>1.0</td>\n",
       "      <td>0.0</td>\n",
       "      <td>0.0</td>\n",
       "      <td>0.0</td>\n",
       "      <td>0.0</td>\n",
       "      <td>0.0</td>\n",
       "      <td>0.0</td>\n",
       "      <td>...</td>\n",
       "      <td>0.0</td>\n",
       "      <td>0.0</td>\n",
       "      <td>0.0</td>\n",
       "      <td>0.0</td>\n",
       "      <td>0.0</td>\n",
       "      <td>0.0</td>\n",
       "      <td>0.0</td>\n",
       "      <td>0.0</td>\n",
       "      <td>0.0</td>\n",
       "      <td>0.0</td>\n",
       "    </tr>\n",
       "    <tr>\n",
       "      <th>8</th>\n",
       "      <td>9190.0</td>\n",
       "      <td>3.0</td>\n",
       "      <td>350.0</td>\n",
       "      <td>1.0</td>\n",
       "      <td>0.0</td>\n",
       "      <td>0.0</td>\n",
       "      <td>0.0</td>\n",
       "      <td>0.0</td>\n",
       "      <td>0.0</td>\n",
       "      <td>0.0</td>\n",
       "      <td>...</td>\n",
       "      <td>0.0</td>\n",
       "      <td>0.0</td>\n",
       "      <td>0.0</td>\n",
       "      <td>0.0</td>\n",
       "      <td>0.0</td>\n",
       "      <td>0.0</td>\n",
       "      <td>0.0</td>\n",
       "      <td>0.0</td>\n",
       "      <td>0.0</td>\n",
       "      <td>0.0</td>\n",
       "    </tr>\n",
       "    <tr>\n",
       "      <th>9</th>\n",
       "      <td>19000.0</td>\n",
       "      <td>7.0</td>\n",
       "      <td>500.0</td>\n",
       "      <td>0.0</td>\n",
       "      <td>0.0</td>\n",
       "      <td>1.0</td>\n",
       "      <td>0.0</td>\n",
       "      <td>0.0</td>\n",
       "      <td>0.0</td>\n",
       "      <td>0.0</td>\n",
       "      <td>...</td>\n",
       "      <td>0.0</td>\n",
       "      <td>0.0</td>\n",
       "      <td>0.0</td>\n",
       "      <td>0.0</td>\n",
       "      <td>0.0</td>\n",
       "      <td>0.0</td>\n",
       "      <td>0.0</td>\n",
       "      <td>0.0</td>\n",
       "      <td>0.0</td>\n",
       "      <td>0.0</td>\n",
       "    </tr>\n",
       "  </tbody>\n",
       "</table>\n",
       "<p>10 rows × 450 columns</p>\n",
       "</div>"
      ],
      "text/plain": [
       "   kms_driven  age  power  owner_First Owner  owner_Fourth Owner Or More  \\\n",
       "0     17654.0  3.0  110.0                1.0                         0.0   \n",
       "1     11000.0  4.0  350.0                1.0                         0.0   \n",
       "2       110.0  8.0  675.0                1.0                         0.0   \n",
       "3     16329.0  4.0  180.0                1.0                         0.0   \n",
       "4     10000.0  3.0  150.0                1.0                         0.0   \n",
       "5     25000.0  6.0  150.0                1.0                         0.0   \n",
       "6      8200.0  3.0  160.0                1.0                         0.0   \n",
       "7     12645.0  3.0  100.0                1.0                         0.0   \n",
       "8      9190.0  3.0  350.0                1.0                         0.0   \n",
       "9     19000.0  7.0  500.0                0.0                         0.0   \n",
       "\n",
       "   owner_Second Owner  owner_Third Owner  city_24 Pargana  city_Abohar  \\\n",
       "0                 0.0                0.0              0.0          0.0   \n",
       "1                 0.0                0.0              0.0          0.0   \n",
       "2                 0.0                0.0              0.0          0.0   \n",
       "3                 0.0                0.0              0.0          0.0   \n",
       "4                 0.0                0.0              0.0          0.0   \n",
       "5                 0.0                0.0              0.0          0.0   \n",
       "6                 0.0                0.0              0.0          0.0   \n",
       "7                 0.0                0.0              0.0          0.0   \n",
       "8                 0.0                0.0              0.0          0.0   \n",
       "9                 1.0                0.0              0.0          0.0   \n",
       "\n",
       "   city_Adalaj  ...  city_Viramgam  city_Virar  city_Virudhunagar  \\\n",
       "0          0.0  ...            0.0         0.0                0.0   \n",
       "1          0.0  ...            0.0         0.0                0.0   \n",
       "2          0.0  ...            0.0         0.0                0.0   \n",
       "3          0.0  ...            0.0         0.0                0.0   \n",
       "4          0.0  ...            0.0         0.0                0.0   \n",
       "5          0.0  ...            0.0         0.0                0.0   \n",
       "6          0.0  ...            0.0         0.0                0.0   \n",
       "7          0.0  ...            0.0         0.0                0.0   \n",
       "8          0.0  ...            0.0         0.0                0.0   \n",
       "9          0.0  ...            0.0         0.0                0.0   \n",
       "\n",
       "   city_Visakhapatnam  city_Vizianagaram  city_Warangal  city_Wardha  \\\n",
       "0                 0.0                0.0            0.0          0.0   \n",
       "1                 0.0                0.0            0.0          0.0   \n",
       "2                 0.0                0.0            0.0          0.0   \n",
       "3                 0.0                0.0            0.0          0.0   \n",
       "4                 0.0                0.0            0.0          0.0   \n",
       "5                 0.0                0.0            0.0          0.0   \n",
       "6                 0.0                0.0            0.0          0.0   \n",
       "7                 0.0                0.0            0.0          0.0   \n",
       "8                 0.0                0.0            0.0          0.0   \n",
       "9                 0.0                0.0            0.0          0.0   \n",
       "\n",
       "   city_Yamuna Nagar  city_Yemmiganur  city_Zirakpur  \n",
       "0                0.0              0.0            0.0  \n",
       "1                0.0              0.0            0.0  \n",
       "2                0.0              0.0            0.0  \n",
       "3                0.0              0.0            0.0  \n",
       "4                0.0              0.0            0.0  \n",
       "5                0.0              0.0            0.0  \n",
       "6                0.0              0.0            0.0  \n",
       "7                0.0              0.0            0.0  \n",
       "8                0.0              0.0            0.0  \n",
       "9                0.0              0.0            0.0  \n",
       "\n",
       "[10 rows x 450 columns]"
      ]
     },
     "execution_count": 13,
     "metadata": {},
     "output_type": "execute_result"
    }
   ],
   "source": [
    "df_encoded.head(10)"
   ]
  },
  {
   "cell_type": "code",
   "execution_count": 14,
   "id": "ab99eeb6",
   "metadata": {},
   "outputs": [],
   "source": [
    "x = df_encoded\n",
    "y = df['price'].values"
   ]
  },
  {
   "cell_type": "code",
   "execution_count": 19,
   "id": "06978650",
   "metadata": {},
   "outputs": [],
   "source": [
    "x_train, x_test, y_train, y_test = train_test_split(x, y, test_size=0.7)"
   ]
  },
  {
   "cell_type": "code",
   "execution_count": 20,
   "id": "5c7282ed",
   "metadata": {},
   "outputs": [],
   "source": [
    "start = time.time()\n",
    "param_grid = {\n",
    "    'n_estimators': [50, 100, 150],\n",
    "    'max_depth': [5, 10, 15],\n",
    "    'min_samples_split': [2, 5, 10],\n",
    "    'min_samples_leaf': [1, 2, 4]\n",
    "}"
   ]
  },
  {
   "cell_type": "code",
   "execution_count": 21,
   "id": "b2274054",
   "metadata": {},
   "outputs": [
    {
     "name": "stdout",
     "output_type": "stream",
     "text": [
      "Fitting 3 folds for each of 81 candidates, totalling 243 fits\n"
     ]
    }
   ],
   "source": [
    "model = RandomForestRegressor(n_jobs=-1)\n",
    "grid_search = GridSearchCV(estimator=model, param_grid=param_grid,cv=3, scoring='r2', verbose=1, n_jobs=-1)\n",
    "grid_search.fit(x_train, y_train)\n",
    "end = time.time()"
   ]
  },
  {
   "cell_type": "code",
   "execution_count": 22,
   "id": "e0d0152f",
   "metadata": {},
   "outputs": [],
   "source": [
    "y_pred = grid_search.predict(x_test)\n",
    "y_train_pred = grid_search.predict(x_train)\n",
    "r2_train = r2_score(y_train,y_train_pred)\n",
    "r2 = r2_score(y_test, y_pred)"
   ]
  },
  {
   "cell_type": "code",
   "execution_count": 25,
   "id": "9b7072ec",
   "metadata": {},
   "outputs": [
    {
     "name": "stdout",
     "output_type": "stream",
     "text": [
      "{'max_depth': 15, 'min_samples_leaf': 1, 'min_samples_split': 10, 'n_estimators': 150}\n",
      "Training time: 243.43 seconds\n",
      "R² Train Score: 98.18882881002159\n",
      "R² Score: 91.7809305207859\n"
     ]
    }
   ],
   "source": [
    "print(grid_search.best_params_)\n",
    "print(\"Training time: {:.2f} seconds\".format(end - start))\n",
    "print(\"R² Train Score:\", r2_train*100)\n",
    "print(\"R² Score:\", r2*100)"
   ]
  },
  {
   "cell_type": "code",
   "execution_count": 26,
   "id": "d6fe9cc2",
   "metadata": {},
   "outputs": [],
   "source": [
    "df['price_category'] = pd.qcut(df['price'],q=4,labels=[0,1,2,3])\n",
    "y_cl = df['price_category'].astype(int)"
   ]
  },
  {
   "cell_type": "code",
   "execution_count": 27,
   "id": "725e437b",
   "metadata": {},
   "outputs": [],
   "source": [
    "scaler = StandardScaler()\n",
    "x_scaled = scaler.fit_transform(x)"
   ]
  },
  {
   "cell_type": "code",
   "execution_count": 28,
   "id": "9bc689f3",
   "metadata": {},
   "outputs": [],
   "source": [
    "x_train_cls, x_test_cls, y_train_cls, y_test_cls = train_test_split(x_scaled, y_cl, test_size=0.7)"
   ]
  },
  {
   "cell_type": "code",
   "execution_count": 29,
   "id": "71d98320",
   "metadata": {},
   "outputs": [],
   "source": [
    "start1 = time.time()\n",
    "log = LogisticRegression(max_iter=100000)\n",
    "log.fit(x_train_cls, y_train_cls)\n",
    "end1 = time.time()"
   ]
  },
  {
   "cell_type": "code",
   "execution_count": 30,
   "id": "124c6754",
   "metadata": {},
   "outputs": [],
   "source": [
    "y_train_pred_log = log.predict(x_train_cls)\n",
    "y_test_pred_log = log.predict(x_test_cls)\n",
    "train_accuracy = accuracy_score(y_train_cls, y_train_pred_log)\n",
    "test_accuracy = accuracy_score(y_test_cls, y_test_pred_log)"
   ]
  },
  {
   "cell_type": "code",
   "execution_count": 31,
   "id": "fcff8537",
   "metadata": {},
   "outputs": [
    {
     "name": "stdout",
     "output_type": "stream",
     "text": [
      "Training time: 1.65 seconds\n",
      "Accuracy Train Score: 91.15785174596692\n",
      "Accuracy Test Score: 89.6035704909425\n"
     ]
    }
   ],
   "source": [
    "print(\"Training time: {:.2f} seconds\".format(end1 - start1))\n",
    "print(\"Accuracy Train Score:\", train_accuracy * 100)\n",
    "print(\"Accuracy Test Score:\", test_accuracy * 100)"
   ]
  }
 ],
 "metadata": {
  "kernelspec": {
   "display_name": "Python 3",
   "language": "python",
   "name": "python3"
  },
  "language_info": {
   "codemirror_mode": {
    "name": "ipython",
    "version": 3
   },
   "file_extension": ".py",
   "mimetype": "text/x-python",
   "name": "python",
   "nbconvert_exporter": "python",
   "pygments_lexer": "ipython3",
   "version": "3.12.10"
  }
 },
 "nbformat": 4,
 "nbformat_minor": 5
}
